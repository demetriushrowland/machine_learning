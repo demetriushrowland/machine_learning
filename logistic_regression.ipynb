{
 "cells": [
  {
   "cell_type": "code",
   "execution_count": 2,
   "metadata": {},
   "outputs": [
    {
     "name": "stderr",
     "output_type": "stream",
     "text": [
      "/Users/Zhonghou/anaconda3/lib/python3.6/site-packages/ipykernel_launcher.py:28: RuntimeWarning: divide by zero encountered in log\n",
      "/Users/Zhonghou/anaconda3/lib/python3.6/site-packages/ipykernel_launcher.py:26: RuntimeWarning: divide by zero encountered in log\n",
      "/Users/Zhonghou/anaconda3/lib/python3.6/site-packages/numpy/core/_methods.py:112: RuntimeWarning: invalid value encountered in subtract\n",
      "  x = asanyarray(arr - arrmean)\n"
     ]
    },
    {
     "name": "stdout",
     "output_type": "stream",
     "text": [
      "Weights: [-1.17796112  1.03926518 -5.        ]\n"
     ]
    },
    {
     "data": {
      "image/png": "[encoded data removed]",
      "text/plain": [
       "<Figure size 432x288 with 1 Axes>"
      ]
     },
     "metadata": {},
     "output_type": "display_data"
    }
   ],
   "source": [
    "import numpy as np\n",
    "import matplotlib.pyplot as plt\n",
    "from scipy.optimize import differential_evolution as de\n",
    "\n",
    "def sigmoid (x):\n",
    "    ''' Returns sigmoid(x) with scale = 20.'''\n",
    "    \n",
    "    return 1 / (1+np.exp (-20*x))\n",
    "\n",
    "def logit (x):\n",
    "    ''' Returns the inverse sigmoid of x.'''\n",
    "    \n",
    "    return np.log (x / (1-x))\n",
    "\n",
    "def phi (weights, x):\n",
    "    ''' Combines the features according to a simple dot product with the weights.'''\n",
    "    \n",
    "    return np.dot (x, weights)\n",
    "\n",
    "def log_likelihood (weights, X0, X1):\n",
    "    ''' Computes the log likelihood given the weights, the data sets X0 (corresponding to class 0)\n",
    "    and X1 (corresponding to class 1).'''\n",
    "    \n",
    "    total  = 0\n",
    "    for x0 in X0:\n",
    "        total += np.log (sigmoid (phi (weights, x0)))\n",
    "    for x1 in X1:\n",
    "        total += np.log (1 - sigmoid (phi (weights, x1)))\n",
    "    return total\n",
    "\n",
    "def sample_points (num_points, num_predictors, start, end):\n",
    "    ''' Samples features from a uniform distribution on [start, end]. Appends a bias\n",
    "    of 1 at the beginning of each feature set.'''\n",
    "    \n",
    "    X = []\n",
    "    for point_num in range (num_points):\n",
    "        point = [1]\n",
    "        for predictor_num in range (num_predictors):\n",
    "            value = np.random.uniform (start, end)\n",
    "            point.append (value)\n",
    "        X.append (point)\n",
    "    return X\n",
    "\n",
    "def separate_classes (weights, X):\n",
    "    ''' Separates the features into class 0 or class 1, based on a nonlinear activation function.'''\n",
    "    \n",
    "    X0, X1 = [], []\n",
    "    for x in X:\n",
    "        if phi (weights, x) < 0:\n",
    "            X0.append (x)\n",
    "        else:\n",
    "            X1.append (x)\n",
    "    return np.array(X0), np.array(X1)\n",
    "\n",
    "def scatter (X, option):\n",
    "    ''' Creates a scatter plot from the second and third columns of X.'''\n",
    "    x1 = [row[1] for row in X]\n",
    "    x2 = [row[2] for row in X]\n",
    "    plt.scatter (x1, x2, c=option)\n",
    "    \n",
    "def plot_division_line (weights, start, end):\n",
    "    ''' Plots a line which divides the classes based on the value of the\n",
    "    weights which maximizes the log likelihood function.'''\n",
    "    \n",
    "    x_test = np.arange (start, end, .1)\n",
    "    y_test = [1/weights[2]*(-weights[0] - weights[1]*x) for x in x_test]\n",
    "    plt.scatter (x_test, y_test)\n",
    "    \n",
    "\n",
    "def main():\n",
    "    '''Samples from two uniform distributions 100 times. Separates the data points in X according\n",
    "    to the target weights and the activation function given in separate_classes. Uses logistic\n",
    "    regression to estimate the target weights. Plots the class 0 points in red, the class 1\n",
    "    points in green, and the division line given by the weight estimates.'''\n",
    "    \n",
    "    X = sample_points (100, 2, -5, 5)\n",
    "    target_weights = [1,-1,5]\n",
    "    X0, X1 = separate_classes (target_weights, X)\n",
    "    def f(weights):\n",
    "        return -log_likelihood (weights, X0, X1)\n",
    "    weights = de(f, [(-5,5), (-5, 5), (-5,5)]).x\n",
    "    scatter (X0, 'red')\n",
    "    scatter (X1, 'green')\n",
    "    plot_division_line (weights, -5, 5)\n",
    "    print ('Weights:', weights)\n",
    "    \n",
    "    \n",
    "    \n",
    "    \n",
    "    \n",
    "\n",
    "main()"
   ]
  },
  {
   "cell_type": "code",
   "execution_count": null,
   "metadata": {},
   "outputs": [],
   "source": []
  },
  {
   "cell_type": "code",
   "execution_count": null,
   "metadata": {},
   "outputs": [],
   "source": []
  }
 ],
 "metadata": {
  "kernelspec": {
   "display_name": "Python 3",
   "language": "python",
   "name": "python3"
  },
  "language_info": {
   "codemirror_mode": {
    "name": "ipython",
    "version": 3
   },
   "file_extension": ".py",
   "mimetype": "text/x-python",
   "name": "python",
   "nbconvert_exporter": "python",
   "pygments_lexer": "ipython3",
   "version": "3.6.5"
  }
 },
 "nbformat": 4,
 "nbformat_minor": 2
}

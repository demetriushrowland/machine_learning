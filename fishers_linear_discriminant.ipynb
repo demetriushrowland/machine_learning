{
 "cells": [
  {
   "cell_type": "code",
   "execution_count": 11,
   "metadata": {},
   "outputs": [
    {
     "data": {
      "text/plain": [
       "(array([[1302.51788009, 1302.51788009],\n",
       "        [1302.51788009, 1302.51788009]]),\n",
       " array([0.54257048, 0.62413467]),\n",
       " array([-0.62125882, -0.51248349]))"
      ]
     },
     "execution_count": 11,
     "metadata": {},
     "output_type": "execute_result"
    }
   ],
   "source": [
    "import numpy as np\n",
    "import numpy.linalg as la\n",
    "\n",
    "def get_discriminant_data (group0, group1):\n",
    "    n = group0.shape[1]\n",
    "    within_class_covariance = np.zeros((n, n))\n",
    "    N0 = group0.shape[0]\n",
    "    N1 = group1.shape[0]\n",
    "    \n",
    "    mean0 = np.zeros (n)\n",
    "    for x in group0:\n",
    "        x = np.array (x)\n",
    "        mean0 += x\n",
    "    mean0 = 1/N0 * mean0\n",
    "    \n",
    "    mean1 = np.zeros (n)\n",
    "    for x in group1:\n",
    "        x = np.array (x)\n",
    "        mean1 += x\n",
    "    mean1 = 1/N1 * mean1\n",
    "    \n",
    "    for x in group0:\n",
    "        x = np.array (x)\n",
    "        within_class_covariance += np.matmul (x - mean0, (x - mean0).T)\n",
    "    \n",
    "    for x in group1:\n",
    "        x = np.array (x)\n",
    "        within_class_covariance += np.matmul (x - mean1, (x - mean1).T)\n",
    "    \n",
    "    return within_class_covariance, mean0, mean1\n",
    "\n",
    "def get_weights (group0, group1):\n",
    "    within_class_covariance, mean0, mean1 = get_discriminant_data (group0, group1)\n",
    "    return np.matmul (la.inv (within_class_covariance), mean1 - mean0)\n",
    "\n",
    "def main():\n",
    "    group = np.array([[np.random.normal (), np.random.normal()] for time in range (1000)])\n",
    "    practice_weights = np.array([1,1])\n",
    "    \n",
    "    group0 = []\n",
    "    group1 = []\n",
    "    for point in group:\n",
    "        if np.dot(practice_weights, point) >= 0:\n",
    "            group0.append (point)\n",
    "        else:\n",
    "            group1.append (point)\n",
    "    group0 = np.array(group0)\n",
    "    group1 = np.array(group1)\n",
    "    \n",
    "    return get_discriminant_data (group0, group1)\n",
    "    \n",
    "    #weights = get_weights (group0, group1)\n",
    "    #return weights\n",
    "\n",
    "main()"
   ]
  },
  {
   "cell_type": "code",
   "execution_count": null,
   "metadata": {},
   "outputs": [],
   "source": []
  }
 ],
 "metadata": {
  "kernelspec": {
   "display_name": "Python 3",
   "language": "python",
   "name": "python3"
  },
  "language_info": {
   "codemirror_mode": {
    "name": "ipython",
    "version": 3
   },
   "file_extension": ".py",
   "mimetype": "text/x-python",
   "name": "python",
   "nbconvert_exporter": "python",
   "pygments_lexer": "ipython3",
   "version": "3.6.5"
  }
 },
 "nbformat": 4,
 "nbformat_minor": 2
}

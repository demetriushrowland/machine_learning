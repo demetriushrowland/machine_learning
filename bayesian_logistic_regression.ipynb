{
 "cells": [
  {
   "cell_type": "code",
   "execution_count": 22,
   "metadata": {},
   "outputs": [
    {
     "data": {
      "image/png": "[encoded data removed]",
      "text/plain": [
       "<Figure size 432x288 with 1 Axes>"
      ]
     },
     "metadata": {},
     "output_type": "display_data"
    }
   ],
   "source": [
    "import numpy as np\n",
    "import scipy as sp\n",
    "import matplotlib.pyplot as plt\n",
    "from scipy import integrate\n",
    "\n",
    "\n",
    "def sigmoid (x, alpha):\n",
    "    return 1/ (1+np.exp(-(x-alpha)))\n",
    "\n",
    "def prior_distribution (alpha):\n",
    "    return 1\n",
    "\n",
    "def likelihood (data, alpha):\n",
    "    product = 1\n",
    "    for row in data:\n",
    "        x = row[0]\n",
    "        t = row[1]\n",
    "        product *= 1 / (1+np.exp((-1)**t*(x-alpha)))\n",
    "    return product\n",
    "\n",
    "def posterior_distribution (data, alpha):\n",
    "    def f(alpha):  \n",
    "        return likelihood (data, alpha) * prior_distribution (alpha)\n",
    "    I = integrate.quad (f, -10, 10)[0]\n",
    "    return f(alpha) / I\n",
    "\n",
    "def main (key):\n",
    "    data = []\n",
    "    for time in range (1000):\n",
    "        x = np.random.uniform (-10, 10)\n",
    "        if x > key:\n",
    "            t = 1\n",
    "        else:\n",
    "            t = 0\n",
    "        data.append ([x, t])\n",
    "        \n",
    "    X = [i/10 - 10 for i in range (200+1)]\n",
    "    Y = [posterior_distribution (data, alpha) for alpha in X]\n",
    "    plt.plot (X, Y)\n",
    "    plt.show()\n",
    "    \n",
    "main(-8)\n",
    "    \n",
    "            \n",
    "        "
   ]
  },
  {
   "cell_type": "code",
   "execution_count": null,
   "metadata": {},
   "outputs": [],
   "source": []
  }
 ],
 "metadata": {
  "kernelspec": {
   "display_name": "Python 3",
   "language": "python",
   "name": "python3"
  },
  "language_info": {
   "codemirror_mode": {
    "name": "ipython",
    "version": 3
   },
   "file_extension": ".py",
   "mimetype": "text/x-python",
   "name": "python",
   "nbconvert_exporter": "python",
   "pygments_lexer": "ipython3",
   "version": "3.6.5"
  }
 },
 "nbformat": 4,
 "nbformat_minor": 2
}

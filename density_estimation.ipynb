{
 "cells": [
  {
   "cell_type": "code",
   "execution_count": 4,
   "metadata": {},
   "outputs": [
    {
     "data": {
      "text/plain": [
       "(-0.043866003629659985, 0.9098233671909098)"
      ]
     },
     "execution_count": 4,
     "metadata": {},
     "output_type": "execute_result"
    }
   ],
   "source": [
    "import numpy as np\n",
    "import matplotlib.pyplot as plt\n",
    "\n",
    "def generate_gaussian (mean=0, sd=1):    \n",
    "    X = [np.random.normal (mean, sd) for time in range (1000)]\n",
    "    return X\n",
    "    \n",
    "def estimate_gaussian (X):\n",
    "    sample_mean = sum(X) / len(X)\n",
    "    sample_variance = sum([(x - sample_mean)**2 for x in X]) / len (X)\n",
    "    \n",
    "    return sample_mean, sample_variance\n",
    "\n",
    "def generate_uniform (start=0, end=1):\n",
    "    X = [np.random.uniform (start, end) for time in range (1000)]\n",
    "    return X\n",
    "\n",
    "def estimate_uniform (X):\n",
    "    sample_start = min (X)\n",
    "    sample_end = max (X)\n",
    "    \n",
    "    return sample_start, sample_end\n",
    "\n",
    "def generate_exponential (scale=1):\n",
    "    X = [np.random.exponential (scale) for time in range (1000)]\n",
    "    return X\n",
    "\n",
    "def estimate_exponential (X):\n",
    "    sample_scale = len (X) / sum (X)\n",
    "    return sample_scale\n",
    "\n",
    "def log_likelihood (distribution, X):\n",
    "    total = 0\n",
    "    for x in X:\n",
    "        total += np.log (distribution (X))\n",
    "\n",
    "def main():\n",
    "    X = generate_gaussian ()\n",
    "    return estimate_gaussian (X)\n",
    "\n",
    "main()"
   ]
  },
  {
   "cell_type": "code",
   "execution_count": null,
   "metadata": {},
   "outputs": [],
   "source": []
  }
 ],
 "metadata": {
  "kernelspec": {
   "display_name": "Python 3",
   "language": "python",
   "name": "python3"
  },
  "language_info": {
   "codemirror_mode": {
    "name": "ipython",
    "version": 3
   },
   "file_extension": ".py",
   "mimetype": "text/x-python",
   "name": "python",
   "nbconvert_exporter": "python",
   "pygments_lexer": "ipython3",
   "version": "3.6.5"
  }
 },
 "nbformat": 4,
 "nbformat_minor": 2
}

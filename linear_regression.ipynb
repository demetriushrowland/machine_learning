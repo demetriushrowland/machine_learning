{
 "cells": [
  {
   "cell_type": "code",
   "execution_count": 25,
   "metadata": {},
   "outputs": [
    {
     "data": {
      "image/png": "[encoded data removed]",
      "text/plain": [
       "<Figure size 432x288 with 1 Axes>"
      ]
     },
     "metadata": {},
     "output_type": "display_data"
    },
    {
     "name": "stdout",
     "output_type": "stream",
     "text": [
      "Weights: 4.515501254108095 6.015977168120351\n"
     ]
    }
   ],
   "source": [
    "import scipy.linalg as la\n",
    "import numpy as np\n",
    "import matplotlib.pyplot as plt\n",
    "\n",
    "def linear_regression (X, y):\n",
    "    ''' Given a set of predictor values X and target values y,\n",
    "    computes the vector of weights that determines a linear model of best fit.'''\n",
    "    \n",
    "    weights = np.matmul (np.matmul (la.inv (np.matmul (X.T, X)), X.T), y)\n",
    "    return weights\n",
    "\n",
    "def main():\n",
    "    ''' Performs linear regression on a simulated data set with practice weights \n",
    "    [5, 6]. Plots the resulting line of best fit.'''\n",
    "    \n",
    "    X = []\n",
    "    y = []\n",
    "    practice_weights = [5, 6]\n",
    "    for time in range (100):\n",
    "        X.append ([1, np.random.uniform(-10,10)])\n",
    "        y.append (np.dot(X[-1], practice_weights) + np.random.normal (0, 5))\n",
    "    \n",
    "    # Computes the weights for the linear model that best fits X, y\n",
    "    X = np.array(X)\n",
    "    y = np.array(y)\n",
    "    weights = linear_regression (X, y)\n",
    "\n",
    "    # Computes y estimates given the computed weights\n",
    "    x_test = [x/100 - 10 for x in range (2000)]\n",
    "    y_test = [np.dot (np.array([1,x]), weights) for x in x_test]\n",
    "    x = X.T[1]\n",
    "    \n",
    "    plt.scatter (x_test, y_test)\n",
    "    plt.scatter (x, y)\n",
    "    \n",
    "    plt.show()\n",
    "    \n",
    "    print ('Weights:', weights[0], weights[1])\n",
    "\n",
    "main()\n",
    "    \n",
    "\n"
   ]
  },
  {
   "cell_type": "code",
   "execution_count": null,
   "metadata": {},
   "outputs": [],
   "source": []
  }
 ],
 "metadata": {
  "kernelspec": {
   "display_name": "Python 3",
   "language": "python",
   "name": "python3"
  },
  "language_info": {
   "codemirror_mode": {
    "name": "ipython",
    "version": 3
   },
   "file_extension": ".py",
   "mimetype": "text/x-python",
   "name": "python",
   "nbconvert_exporter": "python",
   "pygments_lexer": "ipython3",
   "version": "3.6.5"
  }
 },
 "nbformat": 4,
 "nbformat_minor": 2
}

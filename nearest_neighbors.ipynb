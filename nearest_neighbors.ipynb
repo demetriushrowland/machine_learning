{
 "cells": [
  {
   "cell_type": "code",
   "execution_count": 24,
   "metadata": {},
   "outputs": [
    {
     "data": {
      "image/png": "[encoded data removed]",
      "text/plain": [
       "<Figure size 432x288 with 1 Axes>"
      ]
     },
     "metadata": {},
     "output_type": "display_data"
    }
   ],
   "source": [
    "import numpy as np\n",
    "import numpy.linalg as la\n",
    "import matplotlib.pyplot as plt\n",
    "from scipy.special import gamma\n",
    "\n",
    "def find_radius (x, X, K):\n",
    "    ''' Grows a sphere centered on x until K points from the data set X are included.\n",
    "    Returns the radius of the resulting sphere.'''\n",
    "    \n",
    "    h = .001\n",
    "    n = x.shape[0]\n",
    "    radius = 0\n",
    "    while True:\n",
    "        num_points = 0\n",
    "        for x_train in X:\n",
    "            x_train = np.array(x_train)\n",
    "            if la.norm (x - x_train) < radius:\n",
    "                num_points += 1\n",
    "        if num_points >= K:\n",
    "            break\n",
    "        radius += h\n",
    "    \n",
    "    return radius\n",
    "\n",
    "def find_volume (x, X, K):\n",
    "    ''' Computes the volume of the smallest sphere centered on x that includes K points\n",
    "    from the data set X.'''\n",
    "    \n",
    "    n = len (x)\n",
    "    radius = find_radius (x, X, K)\n",
    "    volume = np.pi**(n/2) * radius ** n / gamma (1+n/2)\n",
    "    return volume\n",
    "\n",
    "    \n",
    "def compute_probability (x, X, K):\n",
    "    ''' Approximates the probability mass surrounding the point x by assuming a constant\n",
    "    probability density in the sphere surrounding x.'''\n",
    "    \n",
    "    N = len (X)\n",
    "    V = find_volume (x, X, K)\n",
    "    p = K / (N*V)\n",
    "    return p\n",
    "\n",
    "def main(K):\n",
    "    ''' Samples 1000 times from a normal distribution with mean 0 and variance 1. \n",
    "    Estimates the density using the nearest neighbors method. Plots the true distribution\n",
    "    and its approximation.'''\n",
    "    \n",
    "    X = [np.random.normal() for time in range (1000)]\n",
    "    x_test = np.arange(-1,1,.01)\n",
    "    y_test = []\n",
    "    y_gaussian = []\n",
    "    for x in x_test:\n",
    "        x = np.array([x])\n",
    "        y_test.append (compute_probability (x, X, K))\n",
    "        y_gaussian.append (1/(np.sqrt(2*np.pi)) * np.exp (-1/2*x**2))\n",
    "    plt.scatter (x_test, y_test)\n",
    "    plt.scatter (x_test, y_gaussian)\n",
    "    plt.show()\n",
    "    \n",
    "main(100)"
   ]
  },
  {
   "cell_type": "code",
   "execution_count": null,
   "metadata": {},
   "outputs": [],
   "source": []
  }
 ],
 "metadata": {
  "kernelspec": {
   "display_name": "Python 3",
   "language": "python",
   "name": "python3"
  },
  "language_info": {
   "codemirror_mode": {
    "name": "ipython",
    "version": 3
   },
   "file_extension": ".py",
   "mimetype": "text/x-python",
   "name": "python",
   "nbconvert_exporter": "python",
   "pygments_lexer": "ipython3",
   "version": "3.6.5"
  }
 },
 "nbformat": 4,
 "nbformat_minor": 2
}

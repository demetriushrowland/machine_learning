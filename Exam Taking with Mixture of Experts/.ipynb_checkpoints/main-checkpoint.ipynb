{
 "cells": [
  {
   "cell_type": "code",
   "execution_count": 47,
   "id": "cb48e05a-db35-45e3-9d54-671366c0d5da",
   "metadata": {},
   "outputs": [],
   "source": [
    "from libraries.exam import *\n",
    "from libraries.training import *\n",
    "\n",
    "import matplotlib.pyplot as plt"
   ]
  },
  {
   "cell_type": "code",
   "execution_count": 39,
   "id": "24cca241-492d-49a8-8e5b-01a7b47ed6ab",
   "metadata": {},
   "outputs": [
    {
     "name": "stdout",
     "output_type": "stream",
     "text": [
      "The autoreload extension is already loaded. To reload it, use:\n",
      "  %reload_ext autoreload\n"
     ]
    }
   ],
   "source": [
    "%load_ext autoreload\n",
    "%autoreload 2"
   ]
  },
  {
   "cell_type": "markdown",
   "id": "6a5a2dd1-fedb-4a50-8c3d-44b89a5cf052",
   "metadata": {
    "tags": []
   },
   "source": [
    "# **Introduction**\n",
    "\n",
    "This notebook is divided into three parts:\n",
    "\n",
    "1. Training the RNN for polynomial minimization\n",
    "2. Training the router which maps exam problems to the appropriate expert\n",
    "3. Testing our mixture of experts model on an exam of 50 problems and comparing to the benchmark GPT 3.5\n",
    "\n",
    "Additional information on methodology can be found in the paper \"Exam Taking with a Mixture of Experts Model\", which can be found in the same directory as this notebook.\n",
    "\n",
    "# Part 1: **Training the RNN**\n",
    "\n",
    "The first task is training our model to minimize quadratic polynomials of the form Ax^2 + Bx + C by learning an iterative algorithm. We train the RNN on the polynomial minimization data, containing the coefficients A, B, C as inputs and the argminima -B/(2A) as outputs, using a range of hyperparameters, yielding the loss data table below."
   ]
  },
  {
   "cell_type": "code",
   "execution_count": 13,
   "id": "58084093-810c-458c-9b6c-fa391d096346",
   "metadata": {},
   "outputs": [
    {
     "data": {
      "text/html": [
       "<div>\n",
       "<style scoped>\n",
       "    .dataframe tbody tr th:only-of-type {\n",
       "        vertical-align: middle;\n",
       "    }\n",
       "\n",
       "    .dataframe tbody tr th {\n",
       "        vertical-align: top;\n",
       "    }\n",
       "\n",
       "    .dataframe thead th {\n",
       "        text-align: right;\n",
       "    }\n",
       "</style>\n",
       "<table border=\"1\" class=\"dataframe\">\n",
       "  <thead>\n",
       "    <tr style=\"text-align: right;\">\n",
       "      <th></th>\n",
       "      <th>lr</th>\n",
       "      <th>batch_size</th>\n",
       "      <th>n_epochs</th>\n",
       "      <th>seq_len</th>\n",
       "      <th>hidden_size</th>\n",
       "      <th>beta1</th>\n",
       "      <th>beta2</th>\n",
       "      <th>Training Loss for Epoch 1</th>\n",
       "      <th>Training Loss for Epoch 2</th>\n",
       "      <th>Training Loss for Epoch 3</th>\n",
       "      <th>...</th>\n",
       "      <th>Validation Loss for Epoch 1</th>\n",
       "      <th>Validation Loss for Epoch 2</th>\n",
       "      <th>Validation Loss for Epoch 3</th>\n",
       "      <th>Validation Loss for Epoch 4</th>\n",
       "      <th>Validation Loss for Epoch 5</th>\n",
       "      <th>Validation Loss for Epoch 6</th>\n",
       "      <th>Validation Loss for Epoch 7</th>\n",
       "      <th>Validation Loss for Epoch 8</th>\n",
       "      <th>Validation Loss for Epoch 9</th>\n",
       "      <th>Validation Loss for Epoch 10</th>\n",
       "    </tr>\n",
       "  </thead>\n",
       "  <tbody>\n",
       "    <tr>\n",
       "      <th>0</th>\n",
       "      <td>0.10</td>\n",
       "      <td>100</td>\n",
       "      <td>10</td>\n",
       "      <td>10</td>\n",
       "      <td>1</td>\n",
       "      <td>0.90</td>\n",
       "      <td>0.999</td>\n",
       "      <td>5.751829</td>\n",
       "      <td>3.658103</td>\n",
       "      <td>3.269978</td>\n",
       "      <td>...</td>\n",
       "      <td>8.327568</td>\n",
       "      <td>6.223723</td>\n",
       "      <td>5.829583</td>\n",
       "      <td>5.422701</td>\n",
       "      <td>5.084440</td>\n",
       "      <td>4.965931</td>\n",
       "      <td>4.960457</td>\n",
       "      <td>4.949302</td>\n",
       "      <td>4.922614</td>\n",
       "      <td>4.909266</td>\n",
       "    </tr>\n",
       "    <tr>\n",
       "      <th>1</th>\n",
       "      <td>0.10</td>\n",
       "      <td>100</td>\n",
       "      <td>10</td>\n",
       "      <td>10</td>\n",
       "      <td>1</td>\n",
       "      <td>0.99</td>\n",
       "      <td>0.990</td>\n",
       "      <td>2.152221</td>\n",
       "      <td>2.218706</td>\n",
       "      <td>2.206710</td>\n",
       "      <td>...</td>\n",
       "      <td>4.711927</td>\n",
       "      <td>4.766436</td>\n",
       "      <td>4.752740</td>\n",
       "      <td>5.146831</td>\n",
       "      <td>4.567569</td>\n",
       "      <td>4.583520</td>\n",
       "      <td>4.570265</td>\n",
       "      <td>4.731023</td>\n",
       "      <td>4.602848</td>\n",
       "      <td>4.805559</td>\n",
       "    </tr>\n",
       "    <tr>\n",
       "      <th>2</th>\n",
       "      <td>0.05</td>\n",
       "      <td>100</td>\n",
       "      <td>10</td>\n",
       "      <td>10</td>\n",
       "      <td>1</td>\n",
       "      <td>0.90</td>\n",
       "      <td>0.999</td>\n",
       "      <td>2.008714</td>\n",
       "      <td>2.075697</td>\n",
       "      <td>1.922717</td>\n",
       "      <td>...</td>\n",
       "      <td>4.564814</td>\n",
       "      <td>4.627768</td>\n",
       "      <td>4.468793</td>\n",
       "      <td>4.629442</td>\n",
       "      <td>4.471112</td>\n",
       "      <td>4.567086</td>\n",
       "      <td>4.471967</td>\n",
       "      <td>4.554218</td>\n",
       "      <td>4.504177</td>\n",
       "      <td>4.544492</td>\n",
       "    </tr>\n",
       "    <tr>\n",
       "      <th>3</th>\n",
       "      <td>0.05</td>\n",
       "      <td>100</td>\n",
       "      <td>10</td>\n",
       "      <td>10</td>\n",
       "      <td>1</td>\n",
       "      <td>0.99</td>\n",
       "      <td>0.990</td>\n",
       "      <td>2.075009</td>\n",
       "      <td>1.990779</td>\n",
       "      <td>2.106716</td>\n",
       "      <td>...</td>\n",
       "      <td>4.616589</td>\n",
       "      <td>4.534195</td>\n",
       "      <td>4.673281</td>\n",
       "      <td>4.527186</td>\n",
       "      <td>4.469018</td>\n",
       "      <td>4.560924</td>\n",
       "      <td>4.523101</td>\n",
       "      <td>4.505335</td>\n",
       "      <td>4.482924</td>\n",
       "      <td>4.488190</td>\n",
       "    </tr>\n",
       "    <tr>\n",
       "      <th>4</th>\n",
       "      <td>0.01</td>\n",
       "      <td>100</td>\n",
       "      <td>10</td>\n",
       "      <td>10</td>\n",
       "      <td>1</td>\n",
       "      <td>0.90</td>\n",
       "      <td>0.999</td>\n",
       "      <td>1.894169</td>\n",
       "      <td>1.893422</td>\n",
       "      <td>1.896956</td>\n",
       "      <td>...</td>\n",
       "      <td>4.443256</td>\n",
       "      <td>4.442763</td>\n",
       "      <td>4.448139</td>\n",
       "      <td>4.445132</td>\n",
       "      <td>4.440691</td>\n",
       "      <td>4.442396</td>\n",
       "      <td>4.445562</td>\n",
       "      <td>4.446828</td>\n",
       "      <td>4.443668</td>\n",
       "      <td>4.441224</td>\n",
       "    </tr>\n",
       "    <tr>\n",
       "      <th>5</th>\n",
       "      <td>0.01</td>\n",
       "      <td>100</td>\n",
       "      <td>10</td>\n",
       "      <td>10</td>\n",
       "      <td>1</td>\n",
       "      <td>0.99</td>\n",
       "      <td>0.990</td>\n",
       "      <td>1.900178</td>\n",
       "      <td>1.904553</td>\n",
       "      <td>1.920935</td>\n",
       "      <td>...</td>\n",
       "      <td>4.448616</td>\n",
       "      <td>4.451061</td>\n",
       "      <td>4.463176</td>\n",
       "      <td>4.459227</td>\n",
       "      <td>4.447918</td>\n",
       "      <td>4.472922</td>\n",
       "      <td>4.447156</td>\n",
       "      <td>4.474736</td>\n",
       "      <td>4.446270</td>\n",
       "      <td>4.453443</td>\n",
       "    </tr>\n",
       "    <tr>\n",
       "      <th>6</th>\n",
       "      <td>0.10</td>\n",
       "      <td>100</td>\n",
       "      <td>10</td>\n",
       "      <td>20</td>\n",
       "      <td>1</td>\n",
       "      <td>0.90</td>\n",
       "      <td>0.999</td>\n",
       "      <td>7.842935</td>\n",
       "      <td>6.180837</td>\n",
       "      <td>5.336166</td>\n",
       "      <td>...</td>\n",
       "      <td>10.366970</td>\n",
       "      <td>8.710941</td>\n",
       "      <td>7.870575</td>\n",
       "      <td>7.286287</td>\n",
       "      <td>6.826337</td>\n",
       "      <td>6.438576</td>\n",
       "      <td>6.097474</td>\n",
       "      <td>5.789187</td>\n",
       "      <td>5.505571</td>\n",
       "      <td>5.254734</td>\n",
       "    </tr>\n",
       "    <tr>\n",
       "      <th>7</th>\n",
       "      <td>0.10</td>\n",
       "      <td>100</td>\n",
       "      <td>10</td>\n",
       "      <td>20</td>\n",
       "      <td>1</td>\n",
       "      <td>0.99</td>\n",
       "      <td>0.990</td>\n",
       "      <td>5.431138</td>\n",
       "      <td>2.827334</td>\n",
       "      <td>3.100819</td>\n",
       "      <td>...</td>\n",
       "      <td>8.023734</td>\n",
       "      <td>5.393698</td>\n",
       "      <td>5.641273</td>\n",
       "      <td>5.173141</td>\n",
       "      <td>4.696291</td>\n",
       "      <td>4.935139</td>\n",
       "      <td>5.045622</td>\n",
       "      <td>5.059081</td>\n",
       "      <td>5.107021</td>\n",
       "      <td>4.529994</td>\n",
       "    </tr>\n",
       "    <tr>\n",
       "      <th>8</th>\n",
       "      <td>0.05</td>\n",
       "      <td>100</td>\n",
       "      <td>10</td>\n",
       "      <td>20</td>\n",
       "      <td>1</td>\n",
       "      <td>0.90</td>\n",
       "      <td>0.999</td>\n",
       "      <td>160925.593750</td>\n",
       "      <td>18.282080</td>\n",
       "      <td>10.874603</td>\n",
       "      <td>...</td>\n",
       "      <td>139685.890625</td>\n",
       "      <td>21.313433</td>\n",
       "      <td>13.594447</td>\n",
       "      <td>11.045124</td>\n",
       "      <td>9.810471</td>\n",
       "      <td>9.071357</td>\n",
       "      <td>8.565845</td>\n",
       "      <td>8.177608</td>\n",
       "      <td>7.846934</td>\n",
       "      <td>7.544419</td>\n",
       "    </tr>\n",
       "    <tr>\n",
       "      <th>9</th>\n",
       "      <td>0.05</td>\n",
       "      <td>100</td>\n",
       "      <td>10</td>\n",
       "      <td>20</td>\n",
       "      <td>1</td>\n",
       "      <td>0.99</td>\n",
       "      <td>0.990</td>\n",
       "      <td>2.271180</td>\n",
       "      <td>2.516810</td>\n",
       "      <td>2.009142</td>\n",
       "      <td>...</td>\n",
       "      <td>4.823853</td>\n",
       "      <td>5.081902</td>\n",
       "      <td>4.551649</td>\n",
       "      <td>4.484500</td>\n",
       "      <td>4.868364</td>\n",
       "      <td>4.895196</td>\n",
       "      <td>5.083253</td>\n",
       "      <td>5.028366</td>\n",
       "      <td>4.668246</td>\n",
       "      <td>4.573978</td>\n",
       "    </tr>\n",
       "    <tr>\n",
       "      <th>10</th>\n",
       "      <td>0.01</td>\n",
       "      <td>100</td>\n",
       "      <td>10</td>\n",
       "      <td>20</td>\n",
       "      <td>1</td>\n",
       "      <td>0.90</td>\n",
       "      <td>0.999</td>\n",
       "      <td>1.950299</td>\n",
       "      <td>1.945446</td>\n",
       "      <td>1.847469</td>\n",
       "      <td>...</td>\n",
       "      <td>4.483788</td>\n",
       "      <td>4.470721</td>\n",
       "      <td>4.376114</td>\n",
       "      <td>4.388918</td>\n",
       "      <td>4.406673</td>\n",
       "      <td>4.440464</td>\n",
       "      <td>4.498377</td>\n",
       "      <td>4.502436</td>\n",
       "      <td>4.466569</td>\n",
       "      <td>4.501360</td>\n",
       "    </tr>\n",
       "    <tr>\n",
       "      <th>11</th>\n",
       "      <td>0.01</td>\n",
       "      <td>100</td>\n",
       "      <td>10</td>\n",
       "      <td>20</td>\n",
       "      <td>1</td>\n",
       "      <td>0.99</td>\n",
       "      <td>0.990</td>\n",
       "      <td>1.735441</td>\n",
       "      <td>1.744327</td>\n",
       "      <td>1.822077</td>\n",
       "      <td>...</td>\n",
       "      <td>4.273536</td>\n",
       "      <td>4.276626</td>\n",
       "      <td>4.352002</td>\n",
       "      <td>4.300979</td>\n",
       "      <td>4.274756</td>\n",
       "      <td>4.274547</td>\n",
       "      <td>4.320315</td>\n",
       "      <td>4.272533</td>\n",
       "      <td>4.296333</td>\n",
       "      <td>4.266001</td>\n",
       "    </tr>\n",
       "  </tbody>\n",
       "</table>\n",
       "<p>12 rows × 27 columns</p>\n",
       "</div>"
      ],
      "text/plain": [
       "      lr  batch_size  n_epochs  seq_len  hidden_size  beta1  beta2  \\\n",
       "0   0.10         100        10       10            1   0.90  0.999   \n",
       "1   0.10         100        10       10            1   0.99  0.990   \n",
       "2   0.05         100        10       10            1   0.90  0.999   \n",
       "3   0.05         100        10       10            1   0.99  0.990   \n",
       "4   0.01         100        10       10            1   0.90  0.999   \n",
       "5   0.01         100        10       10            1   0.99  0.990   \n",
       "6   0.10         100        10       20            1   0.90  0.999   \n",
       "7   0.10         100        10       20            1   0.99  0.990   \n",
       "8   0.05         100        10       20            1   0.90  0.999   \n",
       "9   0.05         100        10       20            1   0.99  0.990   \n",
       "10  0.01         100        10       20            1   0.90  0.999   \n",
       "11  0.01         100        10       20            1   0.99  0.990   \n",
       "\n",
       "    Training Loss for Epoch 1  Training Loss for Epoch 2  \\\n",
       "0                    5.751829                   3.658103   \n",
       "1                    2.152221                   2.218706   \n",
       "2                    2.008714                   2.075697   \n",
       "3                    2.075009                   1.990779   \n",
       "4                    1.894169                   1.893422   \n",
       "5                    1.900178                   1.904553   \n",
       "6                    7.842935                   6.180837   \n",
       "7                    5.431138                   2.827334   \n",
       "8               160925.593750                  18.282080   \n",
       "9                    2.271180                   2.516810   \n",
       "10                   1.950299                   1.945446   \n",
       "11                   1.735441                   1.744327   \n",
       "\n",
       "    Training Loss for Epoch 3  ...  Validation Loss for Epoch 1  \\\n",
       "0                    3.269978  ...                     8.327568   \n",
       "1                    2.206710  ...                     4.711927   \n",
       "2                    1.922717  ...                     4.564814   \n",
       "3                    2.106716  ...                     4.616589   \n",
       "4                    1.896956  ...                     4.443256   \n",
       "5                    1.920935  ...                     4.448616   \n",
       "6                    5.336166  ...                    10.366970   \n",
       "7                    3.100819  ...                     8.023734   \n",
       "8                   10.874603  ...                139685.890625   \n",
       "9                    2.009142  ...                     4.823853   \n",
       "10                   1.847469  ...                     4.483788   \n",
       "11                   1.822077  ...                     4.273536   \n",
       "\n",
       "    Validation Loss for Epoch 2  Validation Loss for Epoch 3  \\\n",
       "0                      6.223723                     5.829583   \n",
       "1                      4.766436                     4.752740   \n",
       "2                      4.627768                     4.468793   \n",
       "3                      4.534195                     4.673281   \n",
       "4                      4.442763                     4.448139   \n",
       "5                      4.451061                     4.463176   \n",
       "6                      8.710941                     7.870575   \n",
       "7                      5.393698                     5.641273   \n",
       "8                     21.313433                    13.594447   \n",
       "9                      5.081902                     4.551649   \n",
       "10                     4.470721                     4.376114   \n",
       "11                     4.276626                     4.352002   \n",
       "\n",
       "    Validation Loss for Epoch 4  Validation Loss for Epoch 5  \\\n",
       "0                      5.422701                     5.084440   \n",
       "1                      5.146831                     4.567569   \n",
       "2                      4.629442                     4.471112   \n",
       "3                      4.527186                     4.469018   \n",
       "4                      4.445132                     4.440691   \n",
       "5                      4.459227                     4.447918   \n",
       "6                      7.286287                     6.826337   \n",
       "7                      5.173141                     4.696291   \n",
       "8                     11.045124                     9.810471   \n",
       "9                      4.484500                     4.868364   \n",
       "10                     4.388918                     4.406673   \n",
       "11                     4.300979                     4.274756   \n",
       "\n",
       "    Validation Loss for Epoch 6  Validation Loss for Epoch 7  \\\n",
       "0                      4.965931                     4.960457   \n",
       "1                      4.583520                     4.570265   \n",
       "2                      4.567086                     4.471967   \n",
       "3                      4.560924                     4.523101   \n",
       "4                      4.442396                     4.445562   \n",
       "5                      4.472922                     4.447156   \n",
       "6                      6.438576                     6.097474   \n",
       "7                      4.935139                     5.045622   \n",
       "8                      9.071357                     8.565845   \n",
       "9                      4.895196                     5.083253   \n",
       "10                     4.440464                     4.498377   \n",
       "11                     4.274547                     4.320315   \n",
       "\n",
       "    Validation Loss for Epoch 8  Validation Loss for Epoch 9  \\\n",
       "0                      4.949302                     4.922614   \n",
       "1                      4.731023                     4.602848   \n",
       "2                      4.554218                     4.504177   \n",
       "3                      4.505335                     4.482924   \n",
       "4                      4.446828                     4.443668   \n",
       "5                      4.474736                     4.446270   \n",
       "6                      5.789187                     5.505571   \n",
       "7                      5.059081                     5.107021   \n",
       "8                      8.177608                     7.846934   \n",
       "9                      5.028366                     4.668246   \n",
       "10                     4.502436                     4.466569   \n",
       "11                     4.272533                     4.296333   \n",
       "\n",
       "    Validation Loss for Epoch 10  \n",
       "0                       4.909266  \n",
       "1                       4.805559  \n",
       "2                       4.544492  \n",
       "3                       4.488190  \n",
       "4                       4.441224  \n",
       "5                       4.453443  \n",
       "6                       5.254734  \n",
       "7                       4.529994  \n",
       "8                       7.544419  \n",
       "9                       4.573978  \n",
       "10                      4.501360  \n",
       "11                      4.266001  \n",
       "\n",
       "[12 rows x 27 columns]"
      ]
     },
     "execution_count": 13,
     "metadata": {},
     "output_type": "execute_result"
    }
   ],
   "source": [
    "lrs = [.1, .05, .01]\n",
    "batch_sizes = [100] \n",
    "n_epochs = 10\n",
    "seq_lens = [10, 20]\n",
    "hidden_sizes = [1]\n",
    "betas = [(.9, .999), (.99, .99)]\n",
    "\n",
    "loss_data = tune_hyperparameters_for_rnn(lrs=lrs, batch_sizes=batch_sizes, n_epochs=n_epochs, \n",
    "                                         seq_lens=seq_lens, hidden_sizes=hidden_sizes, betas=betas)\n",
    "\n",
    "loss_data"
   ]
  },
  {
   "cell_type": "markdown",
   "id": "c80f7e65-ac62-440f-b5d8-618c68290d0c",
   "metadata": {},
   "source": [
    "The best hyperparameters, as measured in validation loss, are found in row 10, so we plot the training and validation curves when the RNN is trained using these hyperparameters."
   ]
  },
  {
   "cell_type": "code",
   "execution_count": 19,
   "id": "a6aea475-f254-4212-96dc-7e3f9eb366f4",
   "metadata": {},
   "outputs": [
    {
     "name": "stderr",
     "output_type": "stream",
     "text": [
      "/tmp/ipykernel_1496/4201420913.py:2: FutureWarning: Series.__getitem__ treating keys as positions is deprecated. In a future version, integer keys will always be treated as labels (consistent with DataFrame behavior). To access a value by position, use `ser.iloc[pos]`\n",
      "  loss_train = torch.Tensor(loss_optimal[[\"Training Loss for Epoch %d\"%i for i in range(1, 10+1)]])\n",
      "/tmp/ipykernel_1496/4201420913.py:3: FutureWarning: Series.__getitem__ treating keys as positions is deprecated. In a future version, integer keys will always be treated as labels (consistent with DataFrame behavior). To access a value by position, use `ser.iloc[pos]`\n",
      "  loss_val = torch.Tensor(loss_optimal[[\"Validation Loss for Epoch %d\"%i for i in range(1, 10+1)]])\n"
     ]
    },
    {
     "data": {
      "image/png": "[encoded data removed]",
      "text/plain": [
       "<Figure size 640x480 with 1 Axes>"
      ]
     },
     "metadata": {},
     "output_type": "display_data"
    }
   ],
   "source": [
    "loss_optimal = loss_data.iloc[10]\n",
    "loss_train = torch.Tensor(loss_optimal[[\"Training Loss for Epoch %d\"%i for i in range(1, 10+1)]])\n",
    "loss_val = torch.Tensor(loss_optimal[[\"Validation Loss for Epoch %d\"%i for i in range(1, 10+1)]])\n",
    "\n",
    "epochs = [i for i in range(1, 10+1)]\n",
    "plt.plot(loss_train, label=\"Training Loss\")\n",
    "plt.plot(loss_val, label=\"Validation Loss\")\n",
    "plt.xlabel(\"Epoch\")\n",
    "plt.ylabel(\"Loss\")\n",
    "plt.title(\"Training and Validation Loss for RNN\")\n",
    "plt.legend()\n",
    "plt.savefig(\"data/polynomial_minima/training_validation_loss.png\")"
   ]
  },
  {
   "cell_type": "markdown",
   "id": "e67b099a-64d4-421a-9b56-21c31df1c5eb",
   "metadata": {},
   "source": [
    "We retrain the model using the best hyperparameters in order to get the model's answers on the holdout set of exam problems."
   ]
  },
  {
   "cell_type": "code",
   "execution_count": 29,
   "id": "94ecbc81-fe5b-4876-843e-4ec69df6c038",
   "metadata": {},
   "outputs": [],
   "source": [
    "lr = .01\n",
    "batch_size = 100\n",
    "n_epochs = 10\n",
    "seq_len = 20\n",
    "hidden_size = 1\n",
    "beta = (.9, .999)\n",
    "\n",
    "model = RNN(hidden_size=hidden_size)\n",
    "\n",
    "data_train = pd.read_csv(\"data/polynomial_minima/train.csv\")\n",
    "X_train = torch.Tensor(data_train[[\"A\", \"B\", \"C\"]].to_numpy())\n",
    "X_train = repeat_data(X_train, seq_len)\n",
    "\n",
    "Y_train = torch.Tensor(data_train[[\"Y\"]].to_numpy())\n",
    "\n",
    "data_val = pd.read_csv(\"data/polynomial_minima/val.csv\")\n",
    "X_val = torch.Tensor(data_val[[\"A\", \"B\", \"C\"]].to_numpy())\n",
    "Y_val = torch.Tensor(data_val[[\"Y\"]].to_numpy())\n",
    "\n",
    "X_val = repeat_data(X_val, seq_len)\n",
    "\n",
    "trained_model, losses = train_rnn(model, X_train, Y_train, X_val, Y_val, batch_size=batch_size, n_epochs=n_epochs, lr=lr, betas=beta)"
   ]
  },
  {
   "cell_type": "markdown",
   "id": "88da7500-4445-4b53-ac62-e21b70e6d807",
   "metadata": {},
   "source": [
    "Finally, we write the exam problems and get the trained model's answers for these problems."
   ]
  },
  {
   "cell_type": "code",
   "execution_count": 32,
   "id": "36c1d380-4f54-4d81-9f71-2939e2a4a495",
   "metadata": {},
   "outputs": [],
   "source": [
    "write_exam_with_choices()"
   ]
  },
  {
   "cell_type": "code",
   "execution_count": 59,
   "id": "25ebab5c-6fb4-47d7-8315-492b94804fe2",
   "metadata": {},
   "outputs": [],
   "source": [
    "write_model_exam_answers(trained_model)"
   ]
  },
  {
   "cell_type": "markdown",
   "id": "5e3c6e37-6e56-4687-887e-231cdb94ebdb",
   "metadata": {},
   "source": [
    "# **Part 2: Training the Router**\n",
    "\n",
    "We now train the router, which is a classification map from the exam problems to the type of exam problem, i.e. one of \"reading comprehension\", \"word scrambling\", or \"polynomial minimization\". The training set includes inputs of multiple-choice exam problems and outputs containing the problem type.\n",
    "\n",
    "We begin by tuning hyperparameters like learning rate by training the router on this training set and comparing validation losses."
   ]
  },
  {
   "cell_type": "code",
   "execution_count": 83,
   "id": "52a27242-5c0e-417b-8b2f-3c69cc6c623e",
   "metadata": {},
   "outputs": [
    {
     "name": "stderr",
     "output_type": "stream",
     "text": [
      "/home/f174b08f-6cc5-421d-b2ed-6bb924451d73/exam-taking-with-moe/updated_final_project/libraries/exam.py:293: RuntimeWarning: divide by zero encountered in scalar divide\n",
      "  option = -b/(2*a)\n"
     ]
    },
    {
     "data": {
      "application/vnd.jupyter.widget-view+json": {
       "model_id": "35728c2852f14ab3af08bdceda716444",
       "version_major": 2,
       "version_minor": 0
      },
      "text/plain": [
       ".gitattributes:   0%|          | 0.00/1.18k [00:00<?, ?B/s]"
      ]
     },
     "metadata": {},
     "output_type": "display_data"
    },
    {
     "data": {
      "application/vnd.jupyter.widget-view+json": {
       "model_id": "3d93e2f205e8409ca1ed308d47697f30",
       "version_major": 2,
       "version_minor": 0
      },
      "text/plain": [
       "1_Pooling/config.json:   0%|          | 0.00/190 [00:00<?, ?B/s]"
      ]
     },
     "metadata": {},
     "output_type": "display_data"
    },
    {
     "data": {
      "application/vnd.jupyter.widget-view+json": {
       "model_id": "279c38a985674e57a1a15e44fbe03456",
       "version_major": 2,
       "version_minor": 0
      },
      "text/plain": [
       "README.md:   0%|          | 0.00/10.6k [00:00<?, ?B/s]"
      ]
     },
     "metadata": {},
     "output_type": "display_data"
    },
    {
     "data": {
      "application/vnd.jupyter.widget-view+json": {
       "model_id": "d8f8274438a641f68a2263e5648591f7",
       "version_major": 2,
       "version_minor": 0
      },
      "text/plain": [
       "config.json:   0%|          | 0.00/612 [00:00<?, ?B/s]"
      ]
     },
     "metadata": {},
     "output_type": "display_data"
    },
    {
     "data": {
      "application/vnd.jupyter.widget-view+json": {
       "model_id": "e7ebea5216154790834caf5b2e75845c",
       "version_major": 2,
       "version_minor": 0
      },
      "text/plain": [
       "config_sentence_transformers.json:   0%|          | 0.00/116 [00:00<?, ?B/s]"
      ]
     },
     "metadata": {},
     "output_type": "display_data"
    },
    {
     "data": {
      "application/vnd.jupyter.widget-view+json": {
       "model_id": "6c604252b7944beb87d5fcb1e893e364",
       "version_major": 2,
       "version_minor": 0
      },
      "text/plain": [
       "data_config.json:   0%|          | 0.00/39.3k [00:00<?, ?B/s]"
      ]
     },
     "metadata": {},
     "output_type": "display_data"
    },
    {
     "data": {
      "application/vnd.jupyter.widget-view+json": {
       "model_id": "60a432a90c174ebb8562973b237124f2",
       "version_major": 2,
       "version_minor": 0
      },
      "text/plain": [
       "pytorch_model.bin:   0%|          | 0.00/90.9M [00:00<?, ?B/s]"
      ]
     },
     "metadata": {},
     "output_type": "display_data"
    },
    {
     "data": {
      "application/vnd.jupyter.widget-view+json": {
       "model_id": "e3e22b4baa8a4724823392e52586d65b",
       "version_major": 2,
       "version_minor": 0
      },
      "text/plain": [
       "sentence_bert_config.json:   0%|          | 0.00/53.0 [00:00<?, ?B/s]"
      ]
     },
     "metadata": {},
     "output_type": "display_data"
    },
    {
     "data": {
      "application/vnd.jupyter.widget-view+json": {
       "model_id": "c00151d2bfdb46ee8d6197dce7a8094a",
       "version_major": 2,
       "version_minor": 0
      },
      "text/plain": [
       "special_tokens_map.json:   0%|          | 0.00/112 [00:00<?, ?B/s]"
      ]
     },
     "metadata": {},
     "output_type": "display_data"
    },
    {
     "data": {
      "application/vnd.jupyter.widget-view+json": {
       "model_id": "da08eee8b38c4317baaa655ab1f8ccc7",
       "version_major": 2,
       "version_minor": 0
      },
      "text/plain": [
       "tokenizer.json:   0%|          | 0.00/466k [00:00<?, ?B/s]"
      ]
     },
     "metadata": {},
     "output_type": "display_data"
    },
    {
     "data": {
      "application/vnd.jupyter.widget-view+json": {
       "model_id": "f678a68a1ab046cf8b484716f4018445",
       "version_major": 2,
       "version_minor": 0
      },
      "text/plain": [
       "tokenizer_config.json:   0%|          | 0.00/350 [00:00<?, ?B/s]"
      ]
     },
     "metadata": {},
     "output_type": "display_data"
    },
    {
     "data": {
      "application/vnd.jupyter.widget-view+json": {
       "model_id": "21e4ec9c4f3e49abbfa14efb7d2c9f1e",
       "version_major": 2,
       "version_minor": 0
      },
      "text/plain": [
       "train_script.py:   0%|          | 0.00/13.2k [00:00<?, ?B/s]"
      ]
     },
     "metadata": {},
     "output_type": "display_data"
    },
    {
     "data": {
      "application/vnd.jupyter.widget-view+json": {
       "model_id": "d79786345b194d16b41f14a5a5d6015f",
       "version_major": 2,
       "version_minor": 0
      },
      "text/plain": [
       "vocab.txt:   0%|          | 0.00/232k [00:00<?, ?B/s]"
      ]
     },
     "metadata": {},
     "output_type": "display_data"
    },
    {
     "data": {
      "application/vnd.jupyter.widget-view+json": {
       "model_id": "c9d5dd257dcd4227a3aaa466de0d0bee",
       "version_major": 2,
       "version_minor": 0
      },
      "text/plain": [
       "modules.json:   0%|          | 0.00/349 [00:00<?, ?B/s]"
      ]
     },
     "metadata": {},
     "output_type": "display_data"
    },
    {
     "name": "stderr",
     "output_type": "stream",
     "text": [
      "2024-01-23 14:07:57.603868: I tensorflow/core/platform/cpu_feature_guard.cc:193] This TensorFlow binary is optimized with oneAPI Deep Neural Network Library (oneDNN) to use the following CPU instructions in performance-critical operations:  SSE4.1 SSE4.2 AVX AVX2 AVX512F FMA\n",
      "To enable them in other operations, rebuild TensorFlow with the appropriate compiler flags.\n"
     ]
    },
    {
     "data": {
      "text/html": [
       "<div>\n",
       "<style scoped>\n",
       "    .dataframe tbody tr th:only-of-type {\n",
       "        vertical-align: middle;\n",
       "    }\n",
       "\n",
       "    .dataframe tbody tr th {\n",
       "        vertical-align: top;\n",
       "    }\n",
       "\n",
       "    .dataframe thead th {\n",
       "        text-align: right;\n",
       "    }\n",
       "</style>\n",
       "<table border=\"1\" class=\"dataframe\">\n",
       "  <thead>\n",
       "    <tr style=\"text-align: right;\">\n",
       "      <th></th>\n",
       "      <th>lr</th>\n",
       "      <th>beta1</th>\n",
       "      <th>beta2</th>\n",
       "      <th>Training Loss for Epoch 1</th>\n",
       "      <th>Training Loss for Epoch 2</th>\n",
       "      <th>Training Loss for Epoch 3</th>\n",
       "      <th>Training Loss for Epoch 4</th>\n",
       "      <th>Training Loss for Epoch 5</th>\n",
       "      <th>Training Loss for Epoch 6</th>\n",
       "      <th>Training Loss for Epoch 7</th>\n",
       "      <th>...</th>\n",
       "      <th>Validation Loss for Epoch 1</th>\n",
       "      <th>Validation Loss for Epoch 2</th>\n",
       "      <th>Validation Loss for Epoch 3</th>\n",
       "      <th>Validation Loss for Epoch 4</th>\n",
       "      <th>Validation Loss for Epoch 5</th>\n",
       "      <th>Validation Loss for Epoch 6</th>\n",
       "      <th>Validation Loss for Epoch 7</th>\n",
       "      <th>Validation Loss for Epoch 8</th>\n",
       "      <th>Validation Loss for Epoch 9</th>\n",
       "      <th>Validation Loss for Epoch 10</th>\n",
       "    </tr>\n",
       "  </thead>\n",
       "  <tbody>\n",
       "    <tr>\n",
       "      <th>0</th>\n",
       "      <td>0.100</td>\n",
       "      <td>0.90</td>\n",
       "      <td>0.999</td>\n",
       "      <td>1.099042</td>\n",
       "      <td>0.506357</td>\n",
       "      <td>0.270955</td>\n",
       "      <td>0.155884</td>\n",
       "      <td>0.093432</td>\n",
       "      <td>0.058764</td>\n",
       "      <td>0.038911</td>\n",
       "      <td>...</td>\n",
       "      <td>0.477722</td>\n",
       "      <td>0.244530</td>\n",
       "      <td>0.138566</td>\n",
       "      <td>0.083197</td>\n",
       "      <td>0.052814</td>\n",
       "      <td>0.035438</td>\n",
       "      <td>0.024995</td>\n",
       "      <td>0.018394</td>\n",
       "      <td>0.014024</td>\n",
       "      <td>0.011014</td>\n",
       "    </tr>\n",
       "    <tr>\n",
       "      <th>1</th>\n",
       "      <td>0.100</td>\n",
       "      <td>0.99</td>\n",
       "      <td>0.990</td>\n",
       "      <td>1.098516</td>\n",
       "      <td>0.506194</td>\n",
       "      <td>0.270892</td>\n",
       "      <td>0.156195</td>\n",
       "      <td>0.093393</td>\n",
       "      <td>0.058116</td>\n",
       "      <td>0.037777</td>\n",
       "      <td>...</td>\n",
       "      <td>0.477525</td>\n",
       "      <td>0.243975</td>\n",
       "      <td>0.138231</td>\n",
       "      <td>0.082658</td>\n",
       "      <td>0.051877</td>\n",
       "      <td>0.034185</td>\n",
       "      <td>0.023562</td>\n",
       "      <td>0.016882</td>\n",
       "      <td>0.012494</td>\n",
       "      <td>0.009499</td>\n",
       "    </tr>\n",
       "    <tr>\n",
       "      <th>2</th>\n",
       "      <td>0.050</td>\n",
       "      <td>0.90</td>\n",
       "      <td>0.999</td>\n",
       "      <td>1.098817</td>\n",
       "      <td>0.733049</td>\n",
       "      <td>0.500781</td>\n",
       "      <td>0.355201</td>\n",
       "      <td>0.259360</td>\n",
       "      <td>0.193036</td>\n",
       "      <td>0.145773</td>\n",
       "      <td>...</td>\n",
       "      <td>0.715126</td>\n",
       "      <td>0.475443</td>\n",
       "      <td>0.329194</td>\n",
       "      <td>0.236352</td>\n",
       "      <td>0.174305</td>\n",
       "      <td>0.131211</td>\n",
       "      <td>0.100595</td>\n",
       "      <td>0.078527</td>\n",
       "      <td>0.062417</td>\n",
       "      <td>0.050497</td>\n",
       "    </tr>\n",
       "    <tr>\n",
       "      <th>3</th>\n",
       "      <td>0.050</td>\n",
       "      <td>0.99</td>\n",
       "      <td>0.990</td>\n",
       "      <td>1.099024</td>\n",
       "      <td>0.733345</td>\n",
       "      <td>0.500203</td>\n",
       "      <td>0.354143</td>\n",
       "      <td>0.258282</td>\n",
       "      <td>0.191987</td>\n",
       "      <td>0.144533</td>\n",
       "      <td>...</td>\n",
       "      <td>0.715473</td>\n",
       "      <td>0.474598</td>\n",
       "      <td>0.327478</td>\n",
       "      <td>0.234306</td>\n",
       "      <td>0.172146</td>\n",
       "      <td>0.128880</td>\n",
       "      <td>0.097961</td>\n",
       "      <td>0.075514</td>\n",
       "      <td>0.059022</td>\n",
       "      <td>0.046767</td>\n",
       "    </tr>\n",
       "    <tr>\n",
       "      <th>4</th>\n",
       "      <td>0.001</td>\n",
       "      <td>0.90</td>\n",
       "      <td>0.999</td>\n",
       "      <td>1.098362</td>\n",
       "      <td>1.089632</td>\n",
       "      <td>1.080958</td>\n",
       "      <td>1.072342</td>\n",
       "      <td>1.063784</td>\n",
       "      <td>1.055286</td>\n",
       "      <td>1.046848</td>\n",
       "      <td>...</td>\n",
       "      <td>1.089179</td>\n",
       "      <td>1.080078</td>\n",
       "      <td>1.071037</td>\n",
       "      <td>1.062059</td>\n",
       "      <td>1.053144</td>\n",
       "      <td>1.044295</td>\n",
       "      <td>1.035512</td>\n",
       "      <td>1.026798</td>\n",
       "      <td>1.018153</td>\n",
       "      <td>1.009578</td>\n",
       "    </tr>\n",
       "    <tr>\n",
       "      <th>5</th>\n",
       "      <td>0.001</td>\n",
       "      <td>0.99</td>\n",
       "      <td>0.990</td>\n",
       "      <td>1.099005</td>\n",
       "      <td>1.090269</td>\n",
       "      <td>1.081588</td>\n",
       "      <td>1.072963</td>\n",
       "      <td>1.064392</td>\n",
       "      <td>1.055877</td>\n",
       "      <td>1.047418</td>\n",
       "      <td>...</td>\n",
       "      <td>1.089876</td>\n",
       "      <td>1.080767</td>\n",
       "      <td>1.071716</td>\n",
       "      <td>1.062723</td>\n",
       "      <td>1.053790</td>\n",
       "      <td>1.044916</td>\n",
       "      <td>1.036101</td>\n",
       "      <td>1.027347</td>\n",
       "      <td>1.018654</td>\n",
       "      <td>1.010022</td>\n",
       "    </tr>\n",
       "  </tbody>\n",
       "</table>\n",
       "<p>6 rows × 23 columns</p>\n",
       "</div>"
      ],
      "text/plain": [
       "      lr  beta1  beta2  Training Loss for Epoch 1  Training Loss for Epoch 2  \\\n",
       "0  0.100   0.90  0.999                   1.099042                   0.506357   \n",
       "1  0.100   0.99  0.990                   1.098516                   0.506194   \n",
       "2  0.050   0.90  0.999                   1.098817                   0.733049   \n",
       "3  0.050   0.99  0.990                   1.099024                   0.733345   \n",
       "4  0.001   0.90  0.999                   1.098362                   1.089632   \n",
       "5  0.001   0.99  0.990                   1.099005                   1.090269   \n",
       "\n",
       "   Training Loss for Epoch 3  Training Loss for Epoch 4  \\\n",
       "0                   0.270955                   0.155884   \n",
       "1                   0.270892                   0.156195   \n",
       "2                   0.500781                   0.355201   \n",
       "3                   0.500203                   0.354143   \n",
       "4                   1.080958                   1.072342   \n",
       "5                   1.081588                   1.072963   \n",
       "\n",
       "   Training Loss for Epoch 5  Training Loss for Epoch 6  \\\n",
       "0                   0.093432                   0.058764   \n",
       "1                   0.093393                   0.058116   \n",
       "2                   0.259360                   0.193036   \n",
       "3                   0.258282                   0.191987   \n",
       "4                   1.063784                   1.055286   \n",
       "5                   1.064392                   1.055877   \n",
       "\n",
       "   Training Loss for Epoch 7  ...  Validation Loss for Epoch 1  \\\n",
       "0                   0.038911  ...                     0.477722   \n",
       "1                   0.037777  ...                     0.477525   \n",
       "2                   0.145773  ...                     0.715126   \n",
       "3                   0.144533  ...                     0.715473   \n",
       "4                   1.046848  ...                     1.089179   \n",
       "5                   1.047418  ...                     1.089876   \n",
       "\n",
       "   Validation Loss for Epoch 2  Validation Loss for Epoch 3  \\\n",
       "0                     0.244530                     0.138566   \n",
       "1                     0.243975                     0.138231   \n",
       "2                     0.475443                     0.329194   \n",
       "3                     0.474598                     0.327478   \n",
       "4                     1.080078                     1.071037   \n",
       "5                     1.080767                     1.071716   \n",
       "\n",
       "   Validation Loss for Epoch 4  Validation Loss for Epoch 5  \\\n",
       "0                     0.083197                     0.052814   \n",
       "1                     0.082658                     0.051877   \n",
       "2                     0.236352                     0.174305   \n",
       "3                     0.234306                     0.172146   \n",
       "4                     1.062059                     1.053144   \n",
       "5                     1.062723                     1.053790   \n",
       "\n",
       "   Validation Loss for Epoch 6  Validation Loss for Epoch 7  \\\n",
       "0                     0.035438                     0.024995   \n",
       "1                     0.034185                     0.023562   \n",
       "2                     0.131211                     0.100595   \n",
       "3                     0.128880                     0.097961   \n",
       "4                     1.044295                     1.035512   \n",
       "5                     1.044916                     1.036101   \n",
       "\n",
       "   Validation Loss for Epoch 8  Validation Loss for Epoch 9  \\\n",
       "0                     0.018394                     0.014024   \n",
       "1                     0.016882                     0.012494   \n",
       "2                     0.078527                     0.062417   \n",
       "3                     0.075514                     0.059022   \n",
       "4                     1.026798                     1.018153   \n",
       "5                     1.027347                     1.018654   \n",
       "\n",
       "   Validation Loss for Epoch 10  \n",
       "0                      0.011014  \n",
       "1                      0.009499  \n",
       "2                      0.050497  \n",
       "3                      0.046767  \n",
       "4                      1.009578  \n",
       "5                      1.010022  \n",
       "\n",
       "[6 rows x 23 columns]"
      ]
     },
     "execution_count": 83,
     "metadata": {},
     "output_type": "execute_result"
    }
   ],
   "source": [
    "loss_data = tune_hyperparameters_for_router()\n",
    "\n",
    "loss_data"
   ]
  },
  {
   "cell_type": "code",
   "execution_count": 85,
   "id": "35ad3819-6d55-44c0-8f4b-75003166386c",
   "metadata": {},
   "outputs": [],
   "source": [
    "loss_data.to_csv(\"data/router/hyperparameters.csv\")"
   ]
  },
  {
   "cell_type": "markdown",
   "id": "253fadd0-ce6b-4578-bede-9aa3d828b41a",
   "metadata": {},
   "source": [
    "We see that the best hyperparameters occur on row 1, so we plot the training and validation losses for the model when it uses these hyperparameters."
   ]
  },
  {
   "cell_type": "code",
   "execution_count": 88,
   "id": "0c81a88c-357f-4836-874c-9699fdbf1c4e",
   "metadata": {},
   "outputs": [
    {
     "name": "stderr",
     "output_type": "stream",
     "text": [
      "/tmp/ipykernel_1496/512015395.py:5: FutureWarning: Series.__getitem__ treating keys as positions is deprecated. In a future version, integer keys will always be treated as labels (consistent with DataFrame behavior). To access a value by position, use `ser.iloc[pos]`\n",
      "  loss_train = torch.Tensor(loss_optimal[[\"Training Loss for Epoch %d\"%i for i in range(1, 10+1)]])\n",
      "/tmp/ipykernel_1496/512015395.py:6: FutureWarning: Series.__getitem__ treating keys as positions is deprecated. In a future version, integer keys will always be treated as labels (consistent with DataFrame behavior). To access a value by position, use `ser.iloc[pos]`\n",
      "  loss_val = torch.Tensor(loss_optimal[[\"Validation Loss for Epoch %d\"%i for i in range(1, 10+1)]])\n"
     ]
    },
    {
     "data": {
      "image/png": "[encoded data removed]",
      "text/plain": [
       "<Figure size 640x480 with 1 Axes>"
      ]
     },
     "metadata": {},
     "output_type": "display_data"
    }
   ],
   "source": [
    "lr = 0.1\n",
    "beta = (.99, .99)\n",
    "\n",
    "loss_optimal = loss_data.iloc[1]\n",
    "loss_train = torch.Tensor(loss_optimal[[\"Training Loss for Epoch %d\"%i for i in range(1, 10+1)]])\n",
    "loss_val = torch.Tensor(loss_optimal[[\"Validation Loss for Epoch %d\"%i for i in range(1, 10+1)]])\n",
    "\n",
    "epochs = [i for i in range(1, 10+1)]\n",
    "plt.plot(loss_train, label=\"Training Loss\")\n",
    "plt.plot(loss_val, label=\"Validation Loss\")\n",
    "plt.xlabel(\"Epoch\")\n",
    "plt.ylabel(\"Loss\")\n",
    "plt.title(\"Training and Validation Loss for Router\")\n",
    "plt.legend()\n",
    "plt.savefig(\"data/router/training_validation_loss.png\")"
   ]
  },
  {
   "cell_type": "markdown",
   "id": "cfeef616-7883-4f25-bdf3-7b682285b10f",
   "metadata": {},
   "source": [
    "# **Part 3: Testing the Model**\n",
    "\n",
    "Finally, we answer our 50-problem exam with our MOE model and the benchmark GPT-3.5 model and compare results.\n",
    "\n",
    "To run this yourself, please set the secret_key variable below to the secret key corresponding to your OpenAI account."
   ]
  },
  {
   "cell_type": "code",
   "execution_count": null,
   "id": "671ff845-f96a-4610-b190-0c9db878b83c",
   "metadata": {},
   "outputs": [],
   "source": [
    "secret_key = None\n",
    "\n",
    "questions = get_exam_questions()\n",
    "questions_answered = get_benchmark_answers(questions, secret_key=secret_key)"
   ]
  },
  {
   "cell_type": "code",
   "execution_count": 146,
   "id": "d5e7f1bb-e54c-4abc-b363-7c038836c5d5",
   "metadata": {},
   "outputs": [],
   "source": [
    "with open('data/exam/final_exam_result.json', 'w') as fout:\n",
    "    json.dump(questions_answered , fout)"
   ]
  },
  {
   "cell_type": "markdown",
   "id": "eae01529-0cd6-43cc-a81b-ada33d45a3b4",
   "metadata": {},
   "source": [
    "We compare accuracies across problem types."
   ]
  },
  {
   "cell_type": "code",
   "execution_count": 149,
   "id": "9921f37e-91e2-4684-abcf-2a4927637991",
   "metadata": {},
   "outputs": [
    {
     "data": {
      "text/html": [
       "<div>\n",
       "<style scoped>\n",
       "    .dataframe tbody tr th:only-of-type {\n",
       "        vertical-align: middle;\n",
       "    }\n",
       "\n",
       "    .dataframe tbody tr th {\n",
       "        vertical-align: top;\n",
       "    }\n",
       "\n",
       "    .dataframe thead th {\n",
       "        text-align: right;\n",
       "    }\n",
       "</style>\n",
       "<table border=\"1\" class=\"dataframe\">\n",
       "  <thead>\n",
       "    <tr style=\"text-align: right;\">\n",
       "      <th></th>\n",
       "      <th>model</th>\n",
       "      <th>word_scrambling</th>\n",
       "      <th>reading_comprehension</th>\n",
       "      <th>polynomial_minima</th>\n",
       "      <th>total</th>\n",
       "    </tr>\n",
       "  </thead>\n",
       "  <tbody>\n",
       "    <tr>\n",
       "      <th>0</th>\n",
       "      <td>mixture-of-experts</td>\n",
       "      <td>100.0%</td>\n",
       "      <td>47.06%</td>\n",
       "      <td>81.25%</td>\n",
       "      <td>76.0%</td>\n",
       "    </tr>\n",
       "    <tr>\n",
       "      <th>1</th>\n",
       "      <td>gpt-3.5</td>\n",
       "      <td>23.53%</td>\n",
       "      <td>76.47%</td>\n",
       "      <td>50.0%</td>\n",
       "      <td>50.0%</td>\n",
       "    </tr>\n",
       "  </tbody>\n",
       "</table>\n",
       "</div>"
      ],
      "text/plain": [
       "                model word_scrambling reading_comprehension polynomial_minima  \\\n",
       "0  mixture-of-experts          100.0%                47.06%            81.25%   \n",
       "1             gpt-3.5          23.53%                76.47%             50.0%   \n",
       "\n",
       "   total  \n",
       "0  76.0%  \n",
       "1  50.0%  "
      ]
     },
     "execution_count": 149,
     "metadata": {},
     "output_type": "execute_result"
    }
   ],
   "source": [
    "acc_table = get_accuracy_table()\n",
    "acc_table"
   ]
  },
  {
   "cell_type": "markdown",
   "id": "ef4041fe-9abb-4267-aef2-baf98af00437",
   "metadata": {},
   "source": [
    "As indicated by the table, our MOE model beats the benchmark by 26 percentage points, with the best performance achieved on the word scrambling task. This is promising, so we save the results."
   ]
  },
  {
   "cell_type": "code",
   "execution_count": 131,
   "id": "c9c9d8c0-3e81-4b99-9506-fa7892b14e39",
   "metadata": {},
   "outputs": [],
   "source": [
    "acc_table.to_csv(\"data/exam/final_exam_accuracy.csv\")"
   ]
  }
 ],
 "metadata": {
  "kernelspec": {
   "display_name": "anaconda-ai-2023-11",
   "language": "python",
   "name": "conda-env-anaconda-ai-2023-11-py"
  },
  "language_info": {
   "codemirror_mode": {
    "name": "ipython",
    "version": 3
   },
   "file_extension": ".py",
   "mimetype": "text/x-python",
   "name": "python",
   "nbconvert_exporter": "python",
   "pygments_lexer": "ipython3",
   "version": "3.10.13"
  }
 },
 "nbformat": 4,
 "nbformat_minor": 5
}

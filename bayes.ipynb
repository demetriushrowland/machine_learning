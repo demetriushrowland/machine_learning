{
 "cells": [
  {
   "cell_type": "code",
   "execution_count": 24,
   "metadata": {},
   "outputs": [],
   "source": [
    "import numpy as np\n",
    "import plotly.graph_objs as go\n",
    "import plotly.plotly as py\n",
    "import plotly.offline as of\n",
    "import math\n",
    "e = math.e\n",
    "pi = math.pi\n",
    "\n",
    "\n",
    "def integrate (f, a, b):\n",
    "    h = (b-a)/(10)\n",
    "    total = 0\n",
    "    x = a\n",
    "    while x < b:\n",
    "        total += f(x)*h\n",
    "        x += h\n",
    "    \n",
    "    return total\n",
    "\n",
    "def factorial (x):\n",
    "    product = 1\n",
    "    i = 1\n",
    "    while i <= x:\n",
    "        product *= i\n",
    "        i += 1\n",
    "    return product\n",
    "\n",
    "def choose (n, k):\n",
    "    return factorial(n) / (factorial(k)*factorial(n-k))\n",
    "\n",
    "def likelihood (data, w):\n",
    "    m = 0\n",
    "    N = len (data)\n",
    "    for entry in data:\n",
    "        if entry == 1:\n",
    "            m += 1\n",
    "            \n",
    "    return (choose (N, m) * w **(m) * (1-w)*(N-m))\n",
    "    \n",
    "\n",
    "def main():\n",
    "    data = [1,1,1,1]\n",
    "    \n",
    "    x = [i/1000 for i in range (1001)]\n",
    "    y = [likelihood(data,i) for i in x]\n",
    "    plot = go.Scatter (x=x, y=y)\n",
    "    of.plot ([plot])\n",
    "\n",
    "main()\n"
   ]
  },
  {
   "cell_type": "code",
   "execution_count": null,
   "metadata": {},
   "outputs": [],
   "source": []
  },
  {
   "cell_type": "code",
   "execution_count": null,
   "metadata": {},
   "outputs": [],
   "source": []
  },
  {
   "cell_type": "code",
   "execution_count": null,
   "metadata": {},
   "outputs": [],
   "source": []
  }
 ],
 "metadata": {
  "kernelspec": {
   "display_name": "Python 3",
   "language": "python",
   "name": "python3"
  }
 },
 "nbformat": 4,
 "nbformat_minor": 2
}
